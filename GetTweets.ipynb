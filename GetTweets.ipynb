{
 "cells": [
  {
   "cell_type": "code",
   "execution_count": 28,
   "metadata": {},
   "outputs": [],
   "source": [
    "import tweepy\n",
    "import pandas as pd\n",
    "\n",
    "consumer_key = \"y9QRcWZyUXYwV7cNm8Llv8BjV\"\n",
    "consumer_secret = \"vebG3IhLuAXy7absYhAPthazbyt85uv1SKVotzTLdgHR2Hfv4n\"\n",
    "\n",
    "access_token = \"1169774315627171840-AXJKc0gWIFXoTM6f0XfN4lObh3NhKg\"\n",
    "access_token_secret = \"nQlsg9Bs5C7Is7yWkeek5wRO2v1tAiywFPFnWyJVHJxSy\"\n",
    "\n",
    "auth = tweepy.OAuthHandler(consumer_key, consumer_secret)\n",
    "auth.set_access_token(access_token, access_token_secret)\n",
    "api = tweepy.API(auth)"
   ]
  },
  {
   "cell_type": "code",
   "execution_count": 29,
   "metadata": {},
   "outputs": [],
   "source": [
    "congressman_queries = [\"@VictorAndresGB\", \"@yonhy_lescano\", \"@Mauriciomulder\", \"@LeylaChihuan\", \"@TubinoCarlos\"]"
   ]
  },
  {
   "cell_type": "code",
   "execution_count": 30,
   "metadata": {},
   "outputs": [
    {
     "name": "stdout",
     "output_type": "stream",
     "text": [
      "Processing tweets with query string: @VictorAndresGB\n",
      "Processing tweets with query string: @yonhy_lescano\n",
      "Processing tweets with query string: @Mauriciomulder\n"
     ]
    },
    {
     "name": "stderr",
     "output_type": "stream",
     "text": [
      "Rate limit reached. Sleeping for: 243\n"
     ]
    },
    {
     "name": "stdout",
     "output_type": "stream",
     "text": [
      "Processing tweets with query string: @LeylaChihuan\n",
      "Processing tweets with query string: @TubinoCarlos\n"
     ]
    }
   ],
   "source": [
    "import pandas.io.formats.excel\n",
    "\n",
    "writer = pd.ExcelWriter(\"tweets.xlsx\", engine = \"xlsxwriter\")\n",
    "pandas.io.formats.excel.ExcelFormatter.header_style = None\n",
    "\n",
    "for q in congressman_queries:\n",
    "    print(\"Processing tweets with query string: \" + q)\n",
    "    tweepy_cursor = tweepy.Cursor(api.search, \n",
    "                          q = q + \" -filter:retweets\",\n",
    "                          tweet_mode = \"extended\",\n",
    "                          wait_on_rate_limit = True,\n",
    "                          wait_on_rate_limit_notify = True).items(1000)\n",
    "    tweets = []\n",
    "    \n",
    "    for tweet in tweepy_cursor:\n",
    "        tweets.append([\n",
    "            tweet.id_str,\n",
    "            tweet.full_text,\n",
    "            q\n",
    "        ])\n",
    "    \n",
    "    tweets_df = pd.DataFrame(tweets,\n",
    "                         columns = [\n",
    "                             \"id\",\n",
    "                             \"full_text\",\n",
    "                             \"query\"\n",
    "                         ])\n",
    "    \n",
    "    tweets_df.to_excel(writer, sheet_name = q, encoding = \"utf-8\", index = False)"
   ]
  },
  {
   "cell_type": "code",
   "execution_count": 31,
   "metadata": {},
   "outputs": [],
   "source": [
    "writer.save()"
   ]
  }
 ],
 "metadata": {
  "kernelspec": {
   "display_name": "Python 3",
   "language": "python",
   "name": "python3"
  },
  "language_info": {
   "codemirror_mode": {
    "name": "ipython",
    "version": 3
   },
   "file_extension": ".py",
   "mimetype": "text/x-python",
   "name": "python",
   "nbconvert_exporter": "python",
   "pygments_lexer": "ipython3",
   "version": "3.7.3"
  }
 },
 "nbformat": 4,
 "nbformat_minor": 2
}
