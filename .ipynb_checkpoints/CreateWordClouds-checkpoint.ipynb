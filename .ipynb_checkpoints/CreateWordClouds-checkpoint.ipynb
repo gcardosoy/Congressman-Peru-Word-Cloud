{
 "cells": [
  {
   "cell_type": "code",
   "execution_count": null,
   "metadata": {},
   "outputs": [],
   "source": [
    "import re\n",
    "from nltk.corpus import stopwords\n",
    "    \n",
    "def PreProcessTweets(df):\n",
    "    tweets_df.drop_duplicates(subset = [\"id\"], keep = \"first\", inplace = True)\n",
    "    tweets_df[\"text\"] = tweets_df[\"full_text\"]\n",
    "    tweets_df[\"text\"] = tweets_df[\"text\"].str.lower()\n",
    "    \n",
    "    tweets_df[\"text\"] = [re.sub(r\"(?:\\@|https?\\://)\\S+\", \"\", text) for text in tweets_df[\"text\"]]\n",
    "    \n",
    "    intab = \"áéíóúïü\"\n",
    "    outtab = \"aeiouiu\"\n",
    "    trantab = str.maketrans(intab, outtab)\n",
    "\n",
    "    tweets_df[\"text\"] = [text.translate(trantab) for text in tweets_df[\"text\"]]\n",
    "    tweets_df[\"text\"] = tweets_df[\"text\"].str.replace(\"[^a-zñ\\s]\", \"\")\n",
    "    \n",
    "    stop = stopwords.words(\"spanish\")\n",
    "    tweets_df[\"text\"] = tweets_df[\"text\"].apply(lambda x: \" \".join(x for x in x.split() if x not in stop))\n",
    "    \n",
    "    stop = df[\"key_words\"].iloc[0].lower().translate(trantab).split(\" \")\n",
    "    tweets_df[\"text\"] = tweets_df[\"text\"].apply(lambda x: \" \".join(x for x in x.split() if x not in stop))"
   ]
  },
  {
   "cell_type": "code",
   "execution_count": null,
   "metadata": {},
   "outputs": [],
   "source": [
    "from wordcloud import WordCloud, ImageColorGenerator\n",
    "import matplotlib.pyplot as plt\n",
    "    \n",
    "def DrawWordCloud(df):\n",
    "    text = df[\"text\"].values.tolist()\n",
    "    words = str(text)\n",
    "    words = re.sub(\"[^a-z]+\", \" \", words)\n",
    "\n",
    "    wordcloud = WordCloud(max_font_size = 50, max_words = 50, background_color = \"white\").generate(words)\n",
    "\n",
    "    plt.figure()\n",
    "    plt.imshow(wordcloud, interpolation = \"bilinear\")\n",
    "    plt.axis(\"off\")\n",
    "    plt.show()"
   ]
  },
  {
   "cell_type": "code",
   "execution_count": null,
   "metadata": {},
   "outputs": [],
   "source": [
    "def CreateWordCloud(sheet_name, df):\n",
    "    print(sheet_name)\n",
    "    PreProcessTweets(df)\n",
    "    DrawWordCloud(df)"
   ]
  },
  {
   "cell_type": "code",
   "execution_count": null,
   "metadata": {},
   "outputs": [],
   "source": [
    "import pandas as pd\n",
    "\n",
    "sheets = pd.read_excel(\"tweets.xlsx\", sheet_name = None)\n",
    "\n",
    "for name, sheet in sheets.items():\n",
    "    tweets_df = pd.DataFrame(sheet,\n",
    "                             columns = [\n",
    "                                 \"id\",\n",
    "                                 \"full_text\",\n",
    "                                 \"query\",\n",
    "                                 \"congressman_name\",\n",
    "                                 \"key_words\"\n",
    "                             ])\n",
    "    tweets_df = CreateWordCloud(name, tweets_df)"
   ]
  },
  {
   "cell_type": "code",
   "execution_count": null,
   "metadata": {},
   "outputs": [],
   "source": []
  }
 ],
 "metadata": {
  "kernelspec": {
   "display_name": "Python 3",
   "language": "python",
   "name": "python3"
  },
  "language_info": {
   "codemirror_mode": {
    "name": "ipython",
    "version": 3
   },
   "file_extension": ".py",
   "mimetype": "text/x-python",
   "name": "python",
   "nbconvert_exporter": "python",
   "pygments_lexer": "ipython3",
   "version": "3.7.3"
  }
 },
 "nbformat": 4,
 "nbformat_minor": 2
}
