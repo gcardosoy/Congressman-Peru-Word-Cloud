{
 "cells": [
  {
   "cell_type": "markdown",
   "metadata": {},
   "source": [
    "# Algoritmo de aprendizaje de máquina\n",
    "\n",
    "En este notebook se implementará un algoritmo de aprendizaje de máquina para el conjunto de datos de tweets"
   ]
  },
  {
   "cell_type": "markdown",
   "metadata": {},
   "source": [
    "Se carga en memoria el archivo Excel que contiene los vectores de características de los tweets"
   ]
  },
  {
   "cell_type": "code",
   "execution_count": 490,
   "metadata": {},
   "outputs": [],
   "source": [
    "import pandas as pd\n",
    "\n",
    "df = pd.read_csv(\"tweets_feature_extracion.csv\", encoding = \"utf-8\")"
   ]
  },
  {
   "cell_type": "markdown",
   "metadata": {},
   "source": [
    "Se eliminan todos los vectores de características de los tweets que hayan sido clasificado como neutros"
   ]
  },
  {
   "cell_type": "code",
   "execution_count": 491,
   "metadata": {},
   "outputs": [],
   "source": [
    "df.drop(df[ df[\"class\"] == \"neutro\"].index, inplace = True)"
   ]
  },
  {
   "cell_type": "code",
   "execution_count": 492,
   "metadata": {},
   "outputs": [
    {
     "data": {
      "text/html": [
       "<div>\n",
       "<style scoped>\n",
       "    .dataframe tbody tr th:only-of-type {\n",
       "        vertical-align: middle;\n",
       "    }\n",
       "\n",
       "    .dataframe tbody tr th {\n",
       "        vertical-align: top;\n",
       "    }\n",
       "\n",
       "    .dataframe thead th {\n",
       "        text-align: right;\n",
       "    }\n",
       "</style>\n",
       "<table border=\"1\" class=\"dataframe\">\n",
       "  <thead>\n",
       "    <tr style=\"text-align: right;\">\n",
       "      <th></th>\n",
       "      <th>f1</th>\n",
       "      <th>f2</th>\n",
       "      <th>f3</th>\n",
       "      <th>f4</th>\n",
       "      <th>f5</th>\n",
       "      <th>f6</th>\n",
       "      <th>f7</th>\n",
       "      <th>f8</th>\n",
       "      <th>f9</th>\n",
       "      <th>f10</th>\n",
       "      <th>...</th>\n",
       "      <th>f92</th>\n",
       "      <th>f93</th>\n",
       "      <th>f94</th>\n",
       "      <th>f95</th>\n",
       "      <th>f96</th>\n",
       "      <th>f97</th>\n",
       "      <th>f98</th>\n",
       "      <th>f99</th>\n",
       "      <th>f100</th>\n",
       "      <th>class</th>\n",
       "    </tr>\n",
       "  </thead>\n",
       "  <tbody>\n",
       "    <tr>\n",
       "      <th>0</th>\n",
       "      <td>-0.185263</td>\n",
       "      <td>-0.126442</td>\n",
       "      <td>0.687119</td>\n",
       "      <td>-0.110711</td>\n",
       "      <td>-0.115368</td>\n",
       "      <td>-0.382538</td>\n",
       "      <td>0.177452</td>\n",
       "      <td>0.319352</td>\n",
       "      <td>0.414370</td>\n",
       "      <td>0.906571</td>\n",
       "      <td>...</td>\n",
       "      <td>-0.065240</td>\n",
       "      <td>-0.096958</td>\n",
       "      <td>-0.332892</td>\n",
       "      <td>-0.002203</td>\n",
       "      <td>0.488303</td>\n",
       "      <td>0.204036</td>\n",
       "      <td>-0.002951</td>\n",
       "      <td>0.283848</td>\n",
       "      <td>0.113339</td>\n",
       "      <td>positivo</td>\n",
       "    </tr>\n",
       "    <tr>\n",
       "      <th>1</th>\n",
       "      <td>-0.623082</td>\n",
       "      <td>-0.271673</td>\n",
       "      <td>1.000970</td>\n",
       "      <td>0.008670</td>\n",
       "      <td>-0.036696</td>\n",
       "      <td>-0.473044</td>\n",
       "      <td>0.546534</td>\n",
       "      <td>0.174511</td>\n",
       "      <td>0.489129</td>\n",
       "      <td>1.187792</td>\n",
       "      <td>...</td>\n",
       "      <td>-0.156622</td>\n",
       "      <td>-0.499596</td>\n",
       "      <td>-0.379724</td>\n",
       "      <td>0.104167</td>\n",
       "      <td>0.715333</td>\n",
       "      <td>0.232296</td>\n",
       "      <td>-0.278074</td>\n",
       "      <td>0.229985</td>\n",
       "      <td>-0.180596</td>\n",
       "      <td>positivo</td>\n",
       "    </tr>\n",
       "    <tr>\n",
       "      <th>2</th>\n",
       "      <td>-0.657994</td>\n",
       "      <td>-0.780325</td>\n",
       "      <td>0.999145</td>\n",
       "      <td>0.198315</td>\n",
       "      <td>0.053620</td>\n",
       "      <td>-0.494484</td>\n",
       "      <td>0.285496</td>\n",
       "      <td>0.320960</td>\n",
       "      <td>0.371300</td>\n",
       "      <td>1.081350</td>\n",
       "      <td>...</td>\n",
       "      <td>0.032576</td>\n",
       "      <td>0.075115</td>\n",
       "      <td>-0.187369</td>\n",
       "      <td>0.372731</td>\n",
       "      <td>0.648799</td>\n",
       "      <td>0.458300</td>\n",
       "      <td>-0.082725</td>\n",
       "      <td>0.435323</td>\n",
       "      <td>0.333019</td>\n",
       "      <td>positivo</td>\n",
       "    </tr>\n",
       "    <tr>\n",
       "      <th>3</th>\n",
       "      <td>-0.830661</td>\n",
       "      <td>-0.338200</td>\n",
       "      <td>1.131208</td>\n",
       "      <td>0.007910</td>\n",
       "      <td>0.039084</td>\n",
       "      <td>-0.531723</td>\n",
       "      <td>0.678928</td>\n",
       "      <td>0.098810</td>\n",
       "      <td>0.553012</td>\n",
       "      <td>1.354421</td>\n",
       "      <td>...</td>\n",
       "      <td>-0.186377</td>\n",
       "      <td>-0.661900</td>\n",
       "      <td>-0.428507</td>\n",
       "      <td>0.161155</td>\n",
       "      <td>0.830715</td>\n",
       "      <td>0.277351</td>\n",
       "      <td>-0.370832</td>\n",
       "      <td>0.256122</td>\n",
       "      <td>-0.219536</td>\n",
       "      <td>positivo</td>\n",
       "    </tr>\n",
       "    <tr>\n",
       "      <th>4</th>\n",
       "      <td>-0.351396</td>\n",
       "      <td>-0.394340</td>\n",
       "      <td>0.774259</td>\n",
       "      <td>-0.005173</td>\n",
       "      <td>0.010890</td>\n",
       "      <td>-0.290290</td>\n",
       "      <td>0.307829</td>\n",
       "      <td>0.238420</td>\n",
       "      <td>0.258530</td>\n",
       "      <td>0.893450</td>\n",
       "      <td>...</td>\n",
       "      <td>-0.041784</td>\n",
       "      <td>-0.143210</td>\n",
       "      <td>-0.350679</td>\n",
       "      <td>0.139063</td>\n",
       "      <td>0.584188</td>\n",
       "      <td>0.264411</td>\n",
       "      <td>-0.176282</td>\n",
       "      <td>0.150352</td>\n",
       "      <td>-0.062272</td>\n",
       "      <td>positivo</td>\n",
       "    </tr>\n",
       "  </tbody>\n",
       "</table>\n",
       "<p>5 rows × 101 columns</p>\n",
       "</div>"
      ],
      "text/plain": [
       "         f1        f2        f3        f4        f5        f6        f7  \\\n",
       "0 -0.185263 -0.126442  0.687119 -0.110711 -0.115368 -0.382538  0.177452   \n",
       "1 -0.623082 -0.271673  1.000970  0.008670 -0.036696 -0.473044  0.546534   \n",
       "2 -0.657994 -0.780325  0.999145  0.198315  0.053620 -0.494484  0.285496   \n",
       "3 -0.830661 -0.338200  1.131208  0.007910  0.039084 -0.531723  0.678928   \n",
       "4 -0.351396 -0.394340  0.774259 -0.005173  0.010890 -0.290290  0.307829   \n",
       "\n",
       "         f8        f9       f10  ...       f92       f93       f94       f95  \\\n",
       "0  0.319352  0.414370  0.906571  ... -0.065240 -0.096958 -0.332892 -0.002203   \n",
       "1  0.174511  0.489129  1.187792  ... -0.156622 -0.499596 -0.379724  0.104167   \n",
       "2  0.320960  0.371300  1.081350  ...  0.032576  0.075115 -0.187369  0.372731   \n",
       "3  0.098810  0.553012  1.354421  ... -0.186377 -0.661900 -0.428507  0.161155   \n",
       "4  0.238420  0.258530  0.893450  ... -0.041784 -0.143210 -0.350679  0.139063   \n",
       "\n",
       "        f96       f97       f98       f99      f100     class  \n",
       "0  0.488303  0.204036 -0.002951  0.283848  0.113339  positivo  \n",
       "1  0.715333  0.232296 -0.278074  0.229985 -0.180596  positivo  \n",
       "2  0.648799  0.458300 -0.082725  0.435323  0.333019  positivo  \n",
       "3  0.830715  0.277351 -0.370832  0.256122 -0.219536  positivo  \n",
       "4  0.584188  0.264411 -0.176282  0.150352 -0.062272  positivo  \n",
       "\n",
       "[5 rows x 101 columns]"
      ]
     },
     "execution_count": 492,
     "metadata": {},
     "output_type": "execute_result"
    }
   ],
   "source": [
    "df.head()"
   ]
  },
  {
   "cell_type": "markdown",
   "metadata": {},
   "source": [
    "Se guardan los vectores de características de los tweets en la variable x"
   ]
  },
  {
   "cell_type": "code",
   "execution_count": 493,
   "metadata": {},
   "outputs": [],
   "source": [
    "x = df.drop(\"class\", axis = 1, inplace = False)"
   ]
  },
  {
   "cell_type": "markdown",
   "metadata": {},
   "source": [
    "Se obtiene la variable clasificadora de los tweets y se hace la transformación:\n",
    "    * 1 = \"negativo\"\n",
    "    * 5 = \"positivo\"    "
   ]
  },
  {
   "cell_type": "code",
   "execution_count": 494,
   "metadata": {},
   "outputs": [],
   "source": [
    "df[\"class\"] = [5 if tag == \"positivo\"  else 1 for tag in df[\"class\"]]\n",
    "y = df[\"class\"]"
   ]
  },
  {
   "cell_type": "code",
   "execution_count": 495,
   "metadata": {},
   "outputs": [
    {
     "data": {
      "text/html": [
       "<div>\n",
       "<style scoped>\n",
       "    .dataframe tbody tr th:only-of-type {\n",
       "        vertical-align: middle;\n",
       "    }\n",
       "\n",
       "    .dataframe tbody tr th {\n",
       "        vertical-align: top;\n",
       "    }\n",
       "\n",
       "    .dataframe thead th {\n",
       "        text-align: right;\n",
       "    }\n",
       "</style>\n",
       "<table border=\"1\" class=\"dataframe\">\n",
       "  <thead>\n",
       "    <tr style=\"text-align: right;\">\n",
       "      <th></th>\n",
       "      <th>f1</th>\n",
       "      <th>f2</th>\n",
       "      <th>f3</th>\n",
       "      <th>f4</th>\n",
       "      <th>f5</th>\n",
       "      <th>f6</th>\n",
       "      <th>f7</th>\n",
       "      <th>f8</th>\n",
       "      <th>f9</th>\n",
       "      <th>f10</th>\n",
       "      <th>...</th>\n",
       "      <th>f92</th>\n",
       "      <th>f93</th>\n",
       "      <th>f94</th>\n",
       "      <th>f95</th>\n",
       "      <th>f96</th>\n",
       "      <th>f97</th>\n",
       "      <th>f98</th>\n",
       "      <th>f99</th>\n",
       "      <th>f100</th>\n",
       "      <th>class</th>\n",
       "    </tr>\n",
       "  </thead>\n",
       "  <tbody>\n",
       "    <tr>\n",
       "      <th>0</th>\n",
       "      <td>-0.185263</td>\n",
       "      <td>-0.126442</td>\n",
       "      <td>0.687119</td>\n",
       "      <td>-0.110711</td>\n",
       "      <td>-0.115368</td>\n",
       "      <td>-0.382538</td>\n",
       "      <td>0.177452</td>\n",
       "      <td>0.319352</td>\n",
       "      <td>0.414370</td>\n",
       "      <td>0.906571</td>\n",
       "      <td>...</td>\n",
       "      <td>-0.065240</td>\n",
       "      <td>-0.096958</td>\n",
       "      <td>-0.332892</td>\n",
       "      <td>-0.002203</td>\n",
       "      <td>0.488303</td>\n",
       "      <td>0.204036</td>\n",
       "      <td>-0.002951</td>\n",
       "      <td>0.283848</td>\n",
       "      <td>0.113339</td>\n",
       "      <td>5</td>\n",
       "    </tr>\n",
       "    <tr>\n",
       "      <th>1</th>\n",
       "      <td>-0.623082</td>\n",
       "      <td>-0.271673</td>\n",
       "      <td>1.000970</td>\n",
       "      <td>0.008670</td>\n",
       "      <td>-0.036696</td>\n",
       "      <td>-0.473044</td>\n",
       "      <td>0.546534</td>\n",
       "      <td>0.174511</td>\n",
       "      <td>0.489129</td>\n",
       "      <td>1.187792</td>\n",
       "      <td>...</td>\n",
       "      <td>-0.156622</td>\n",
       "      <td>-0.499596</td>\n",
       "      <td>-0.379724</td>\n",
       "      <td>0.104167</td>\n",
       "      <td>0.715333</td>\n",
       "      <td>0.232296</td>\n",
       "      <td>-0.278074</td>\n",
       "      <td>0.229985</td>\n",
       "      <td>-0.180596</td>\n",
       "      <td>5</td>\n",
       "    </tr>\n",
       "    <tr>\n",
       "      <th>2</th>\n",
       "      <td>-0.657994</td>\n",
       "      <td>-0.780325</td>\n",
       "      <td>0.999145</td>\n",
       "      <td>0.198315</td>\n",
       "      <td>0.053620</td>\n",
       "      <td>-0.494484</td>\n",
       "      <td>0.285496</td>\n",
       "      <td>0.320960</td>\n",
       "      <td>0.371300</td>\n",
       "      <td>1.081350</td>\n",
       "      <td>...</td>\n",
       "      <td>0.032576</td>\n",
       "      <td>0.075115</td>\n",
       "      <td>-0.187369</td>\n",
       "      <td>0.372731</td>\n",
       "      <td>0.648799</td>\n",
       "      <td>0.458300</td>\n",
       "      <td>-0.082725</td>\n",
       "      <td>0.435323</td>\n",
       "      <td>0.333019</td>\n",
       "      <td>5</td>\n",
       "    </tr>\n",
       "    <tr>\n",
       "      <th>3</th>\n",
       "      <td>-0.830661</td>\n",
       "      <td>-0.338200</td>\n",
       "      <td>1.131208</td>\n",
       "      <td>0.007910</td>\n",
       "      <td>0.039084</td>\n",
       "      <td>-0.531723</td>\n",
       "      <td>0.678928</td>\n",
       "      <td>0.098810</td>\n",
       "      <td>0.553012</td>\n",
       "      <td>1.354421</td>\n",
       "      <td>...</td>\n",
       "      <td>-0.186377</td>\n",
       "      <td>-0.661900</td>\n",
       "      <td>-0.428507</td>\n",
       "      <td>0.161155</td>\n",
       "      <td>0.830715</td>\n",
       "      <td>0.277351</td>\n",
       "      <td>-0.370832</td>\n",
       "      <td>0.256122</td>\n",
       "      <td>-0.219536</td>\n",
       "      <td>5</td>\n",
       "    </tr>\n",
       "    <tr>\n",
       "      <th>4</th>\n",
       "      <td>-0.351396</td>\n",
       "      <td>-0.394340</td>\n",
       "      <td>0.774259</td>\n",
       "      <td>-0.005173</td>\n",
       "      <td>0.010890</td>\n",
       "      <td>-0.290290</td>\n",
       "      <td>0.307829</td>\n",
       "      <td>0.238420</td>\n",
       "      <td>0.258530</td>\n",
       "      <td>0.893450</td>\n",
       "      <td>...</td>\n",
       "      <td>-0.041784</td>\n",
       "      <td>-0.143210</td>\n",
       "      <td>-0.350679</td>\n",
       "      <td>0.139063</td>\n",
       "      <td>0.584188</td>\n",
       "      <td>0.264411</td>\n",
       "      <td>-0.176282</td>\n",
       "      <td>0.150352</td>\n",
       "      <td>-0.062272</td>\n",
       "      <td>5</td>\n",
       "    </tr>\n",
       "  </tbody>\n",
       "</table>\n",
       "<p>5 rows × 101 columns</p>\n",
       "</div>"
      ],
      "text/plain": [
       "         f1        f2        f3        f4        f5        f6        f7  \\\n",
       "0 -0.185263 -0.126442  0.687119 -0.110711 -0.115368 -0.382538  0.177452   \n",
       "1 -0.623082 -0.271673  1.000970  0.008670 -0.036696 -0.473044  0.546534   \n",
       "2 -0.657994 -0.780325  0.999145  0.198315  0.053620 -0.494484  0.285496   \n",
       "3 -0.830661 -0.338200  1.131208  0.007910  0.039084 -0.531723  0.678928   \n",
       "4 -0.351396 -0.394340  0.774259 -0.005173  0.010890 -0.290290  0.307829   \n",
       "\n",
       "         f8        f9       f10  ...       f92       f93       f94       f95  \\\n",
       "0  0.319352  0.414370  0.906571  ... -0.065240 -0.096958 -0.332892 -0.002203   \n",
       "1  0.174511  0.489129  1.187792  ... -0.156622 -0.499596 -0.379724  0.104167   \n",
       "2  0.320960  0.371300  1.081350  ...  0.032576  0.075115 -0.187369  0.372731   \n",
       "3  0.098810  0.553012  1.354421  ... -0.186377 -0.661900 -0.428507  0.161155   \n",
       "4  0.238420  0.258530  0.893450  ... -0.041784 -0.143210 -0.350679  0.139063   \n",
       "\n",
       "        f96       f97       f98       f99      f100  class  \n",
       "0  0.488303  0.204036 -0.002951  0.283848  0.113339      5  \n",
       "1  0.715333  0.232296 -0.278074  0.229985 -0.180596      5  \n",
       "2  0.648799  0.458300 -0.082725  0.435323  0.333019      5  \n",
       "3  0.830715  0.277351 -0.370832  0.256122 -0.219536      5  \n",
       "4  0.584188  0.264411 -0.176282  0.150352 -0.062272      5  \n",
       "\n",
       "[5 rows x 101 columns]"
      ]
     },
     "execution_count": 495,
     "metadata": {},
     "output_type": "execute_result"
    }
   ],
   "source": [
    "df.head()"
   ]
  },
  {
   "cell_type": "code",
   "execution_count": 496,
   "metadata": {},
   "outputs": [
    {
     "data": {
      "text/plain": [
       "0    5\n",
       "1    5\n",
       "2    5\n",
       "3    5\n",
       "4    5\n",
       "Name: class, dtype: int64"
      ]
     },
     "execution_count": 496,
     "metadata": {},
     "output_type": "execute_result"
    }
   ],
   "source": [
    "y.head()"
   ]
  },
  {
   "cell_type": "markdown",
   "metadata": {},
   "source": [
    "Se normaliza los vectores de características de los tweets"
   ]
  },
  {
   "cell_type": "code",
   "execution_count": 497,
   "metadata": {},
   "outputs": [],
   "source": [
    "from sklearn.preprocessing import StandardScaler\n",
    "\n",
    "scaler = StandardScaler()\n",
    "normalized_x = scaler.fit_transform(x)"
   ]
  },
  {
   "cell_type": "code",
   "execution_count": 498,
   "metadata": {},
   "outputs": [
    {
     "name": "stdout",
     "output_type": "stream",
     "text": [
      "[[ 0.32510994  0.70942713 -0.27430557 ...  0.87882734  1.24333992\n",
      "   1.31214435]\n",
      " [-1.14343497 -0.10760975  1.29750533 ... -0.77069928  0.80968509\n",
      "  -0.26629212]\n",
      " [-1.26053554 -2.96917911  1.2883662  ...  0.40053531  2.46289794\n",
      "   2.49183036]\n",
      " ...\n",
      " [ 0.43318049 -1.11697778 -0.78828387 ... -0.2273637  -1.44548556\n",
      "   0.97151615]\n",
      " [ 0.45384243 -0.72585761 -0.23426219 ...  0.40874805 -0.34699723\n",
      "  -0.28413279]\n",
      " [-0.74390649 -1.04858376  1.45309583 ... -1.23156128 -0.93277647\n",
      "  -2.19579293]]\n"
     ]
    }
   ],
   "source": [
    "print(normalized_x)"
   ]
  },
  {
   "cell_type": "markdown",
   "metadata": {},
   "source": [
    "Se hace la división del conjunto de datos en 2:\n",
    "    * entrenamiento - 80 %\n",
    "    * pruebas - 20 %\n",
    "    \n",
    "Se hace muestreo estatrificado para que los conjuntos de entrenamiento y pruebas guarden la misma proporcion"
   ]
  },
  {
   "cell_type": "code",
   "execution_count": 499,
   "metadata": {},
   "outputs": [],
   "source": [
    "from sklearn.model_selection import train_test_split\n",
    "\n",
    "x_train, x_test, y_train, y_test = train_test_split(normalized_x,\n",
    "                                                    y,\n",
    "                                                    test_size = 0.2,\n",
    "                                                    random_state = 0,\n",
    "                                                    stratify = y)"
   ]
  },
  {
   "cell_type": "code",
   "execution_count": 500,
   "metadata": {},
   "outputs": [
    {
     "data": {
      "text/plain": [
       "5    5276\n",
       "1    2102\n",
       "Name: class, dtype: int64"
      ]
     },
     "execution_count": 500,
     "metadata": {},
     "output_type": "execute_result"
    }
   ],
   "source": [
    "y_train.value_counts()"
   ]
  },
  {
   "cell_type": "code",
   "execution_count": 501,
   "metadata": {},
   "outputs": [
    {
     "data": {
      "text/plain": [
       "5    1319\n",
       "1     526\n",
       "Name: class, dtype: int64"
      ]
     },
     "execution_count": 501,
     "metadata": {},
     "output_type": "execute_result"
    }
   ],
   "source": [
    "y_test.value_counts()"
   ]
  },
  {
   "cell_type": "markdown",
   "metadata": {},
   "source": [
    "Se utilizará un algoritmo de máquina de soporte vectorial.\n",
    "\n",
    "Para obtener los mejores hiper-parametros que ajusten al modelo, se realizará una búsqueda en grilla con validación cruzada de K = 5\n",
    "\n",
    "La métrica que se utilizará será F1."
   ]
  },
  {
   "cell_type": "code",
   "execution_count": 502,
   "metadata": {},
   "outputs": [
    {
     "data": {
      "text/plain": [
       "GridSearchCV(cv=3, error_score='raise-deprecating',\n",
       "       estimator=SVC(C=1.0, cache_size=200, class_weight=None, coef0=0.0,\n",
       "  decision_function_shape='ovr', degree=3, gamma='auto_deprecated',\n",
       "  kernel='rbf', max_iter=-1, probability=False, random_state=None,\n",
       "  shrinking=True, tol=0.001, verbose=False),\n",
       "       fit_params=None, iid='warn', n_jobs=None,\n",
       "       param_grid={'C': [1, 10, 100], 'gamma': [0.1, 0.01, 0.001, 0.0001], 'kernel': ['rbf'], 'tol': [0.01, 0.001, 0.0001, 1e-05]},\n",
       "       pre_dispatch='2*n_jobs', refit=True, return_train_score='warn',\n",
       "       scoring='f1', verbose=0)"
      ]
     },
     "execution_count": 502,
     "metadata": {},
     "output_type": "execute_result"
    }
   ],
   "source": [
    "from sklearn.model_selection import GridSearchCV\n",
    "from sklearn.svm import SVC\n",
    "\n",
    "param_grid = {  \n",
    "    'C': [1, 10, 100],\n",
    "    'gamma': [0.1, 0.01, 0.001, 0.0001],\n",
    "    'kernel': ['rbf'],\n",
    "    'tol': [0.01, 0.001, 0.0001, 0.00001]\n",
    "}\n",
    "\n",
    "grid_search = GridSearchCV(estimator = SVC(),\n",
    "                           param_grid = param_grid,\n",
    "                           scoring = 'f1',\n",
    "                           cv = 3)\n",
    "\n",
    "grid_search.fit(x_train, y_train)"
   ]
  },
  {
   "cell_type": "markdown",
   "metadata": {},
   "source": [
    "Se obtienen los resultados de la búsqueda en grilla"
   ]
  },
  {
   "cell_type": "code",
   "execution_count": 503,
   "metadata": {},
   "outputs": [
    {
     "name": "stdout",
     "output_type": "stream",
     "text": [
      "Tuneando los hiper-parámetros para f1\n",
      "\n",
      "Los mejores hiper-parámetros encontrados con validación cruzada:\n",
      "\n",
      "{'C': 100, 'gamma': 0.001, 'kernel': 'rbf', 'tol': 0.001}\n",
      "\n",
      "Puntajes de la métrica f1 en el conjunto de validación:\n",
      "\n",
      "0.7520 (+/-0.0086) for {'C': 1, 'gamma': 0.1, 'kernel': 'rbf', 'tol': 0.01}\n",
      "0.7518 (+/-0.0089) for {'C': 1, 'gamma': 0.1, 'kernel': 'rbf', 'tol': 0.001}\n",
      "0.7518 (+/-0.0089) for {'C': 1, 'gamma': 0.1, 'kernel': 'rbf', 'tol': 0.0001}\n",
      "0.7518 (+/-0.0089) for {'C': 1, 'gamma': 0.1, 'kernel': 'rbf', 'tol': 1e-05}\n",
      "0.7862 (+/-0.0110) for {'C': 1, 'gamma': 0.01, 'kernel': 'rbf', 'tol': 0.01}\n",
      "0.7864 (+/-0.0111) for {'C': 1, 'gamma': 0.01, 'kernel': 'rbf', 'tol': 0.001}\n",
      "0.7864 (+/-0.0111) for {'C': 1, 'gamma': 0.01, 'kernel': 'rbf', 'tol': 0.0001}\n",
      "0.7866 (+/-0.0112) for {'C': 1, 'gamma': 0.01, 'kernel': 'rbf', 'tol': 1e-05}\n",
      "0.7620 (+/-0.0194) for {'C': 1, 'gamma': 0.001, 'kernel': 'rbf', 'tol': 0.01}\n",
      "0.7619 (+/-0.0192) for {'C': 1, 'gamma': 0.001, 'kernel': 'rbf', 'tol': 0.001}\n",
      "0.7619 (+/-0.0192) for {'C': 1, 'gamma': 0.001, 'kernel': 'rbf', 'tol': 0.0001}\n",
      "0.7619 (+/-0.0192) for {'C': 1, 'gamma': 0.001, 'kernel': 'rbf', 'tol': 1e-05}\n",
      "0.7457 (+/-0.0174) for {'C': 1, 'gamma': 0.0001, 'kernel': 'rbf', 'tol': 0.01}\n",
      "0.7455 (+/-0.0169) for {'C': 1, 'gamma': 0.0001, 'kernel': 'rbf', 'tol': 0.001}\n",
      "0.7455 (+/-0.0169) for {'C': 1, 'gamma': 0.0001, 'kernel': 'rbf', 'tol': 0.0001}\n",
      "0.7455 (+/-0.0169) for {'C': 1, 'gamma': 0.0001, 'kernel': 'rbf', 'tol': 1e-05}\n",
      "0.7395 (+/-0.0142) for {'C': 10, 'gamma': 0.1, 'kernel': 'rbf', 'tol': 0.01}\n",
      "0.7395 (+/-0.0142) for {'C': 10, 'gamma': 0.1, 'kernel': 'rbf', 'tol': 0.001}\n",
      "0.7395 (+/-0.0142) for {'C': 10, 'gamma': 0.1, 'kernel': 'rbf', 'tol': 0.0001}\n",
      "0.7395 (+/-0.0142) for {'C': 10, 'gamma': 0.1, 'kernel': 'rbf', 'tol': 1e-05}\n",
      "0.8094 (+/-0.0125) for {'C': 10, 'gamma': 0.01, 'kernel': 'rbf', 'tol': 0.01}\n",
      "0.8097 (+/-0.0118) for {'C': 10, 'gamma': 0.01, 'kernel': 'rbf', 'tol': 0.001}\n",
      "0.8094 (+/-0.0125) for {'C': 10, 'gamma': 0.01, 'kernel': 'rbf', 'tol': 0.0001}\n",
      "0.8097 (+/-0.0118) for {'C': 10, 'gamma': 0.01, 'kernel': 'rbf', 'tol': 1e-05}\n",
      "0.7876 (+/-0.0169) for {'C': 10, 'gamma': 0.001, 'kernel': 'rbf', 'tol': 0.01}\n",
      "0.7880 (+/-0.0175) for {'C': 10, 'gamma': 0.001, 'kernel': 'rbf', 'tol': 0.001}\n",
      "0.7880 (+/-0.0175) for {'C': 10, 'gamma': 0.001, 'kernel': 'rbf', 'tol': 0.0001}\n",
      "0.7880 (+/-0.0175) for {'C': 10, 'gamma': 0.001, 'kernel': 'rbf', 'tol': 1e-05}\n",
      "0.7547 (+/-0.0159) for {'C': 10, 'gamma': 0.0001, 'kernel': 'rbf', 'tol': 0.01}\n",
      "0.7542 (+/-0.0153) for {'C': 10, 'gamma': 0.0001, 'kernel': 'rbf', 'tol': 0.001}\n",
      "0.7542 (+/-0.0153) for {'C': 10, 'gamma': 0.0001, 'kernel': 'rbf', 'tol': 0.0001}\n",
      "0.7542 (+/-0.0153) for {'C': 10, 'gamma': 0.0001, 'kernel': 'rbf', 'tol': 1e-05}\n",
      "0.7300 (+/-0.0042) for {'C': 100, 'gamma': 0.1, 'kernel': 'rbf', 'tol': 0.01}\n",
      "0.7297 (+/-0.0041) for {'C': 100, 'gamma': 0.1, 'kernel': 'rbf', 'tol': 0.001}\n",
      "0.7297 (+/-0.0041) for {'C': 100, 'gamma': 0.1, 'kernel': 'rbf', 'tol': 0.0001}\n",
      "0.7297 (+/-0.0041) for {'C': 100, 'gamma': 0.1, 'kernel': 'rbf', 'tol': 1e-05}\n",
      "0.8168 (+/-0.0144) for {'C': 100, 'gamma': 0.01, 'kernel': 'rbf', 'tol': 0.01}\n",
      "0.8165 (+/-0.0149) for {'C': 100, 'gamma': 0.01, 'kernel': 'rbf', 'tol': 0.001}\n",
      "0.8165 (+/-0.0149) for {'C': 100, 'gamma': 0.01, 'kernel': 'rbf', 'tol': 0.0001}\n",
      "0.8165 (+/-0.0149) for {'C': 100, 'gamma': 0.01, 'kernel': 'rbf', 'tol': 1e-05}\n",
      "0.8192 (+/-0.0088) for {'C': 100, 'gamma': 0.001, 'kernel': 'rbf', 'tol': 0.01}\n",
      "0.8195 (+/-0.0088) for {'C': 100, 'gamma': 0.001, 'kernel': 'rbf', 'tol': 0.001}\n",
      "0.8195 (+/-0.0088) for {'C': 100, 'gamma': 0.001, 'kernel': 'rbf', 'tol': 0.0001}\n",
      "0.8195 (+/-0.0088) for {'C': 100, 'gamma': 0.001, 'kernel': 'rbf', 'tol': 1e-05}\n",
      "0.7766 (+/-0.0179) for {'C': 100, 'gamma': 0.0001, 'kernel': 'rbf', 'tol': 0.01}\n",
      "0.7764 (+/-0.0177) for {'C': 100, 'gamma': 0.0001, 'kernel': 'rbf', 'tol': 0.001}\n",
      "0.7764 (+/-0.0177) for {'C': 100, 'gamma': 0.0001, 'kernel': 'rbf', 'tol': 0.0001}\n",
      "0.7763 (+/-0.0182) for {'C': 100, 'gamma': 0.0001, 'kernel': 'rbf', 'tol': 1e-05}\n"
     ]
    }
   ],
   "source": [
    "print('Tuneando los hiper-parámetros para f1')\n",
    "print()\n",
    "\n",
    "print('Los mejores hiper-parámetros encontrados con validación cruzada:')\n",
    "print()\n",
    "print(grid_search.best_params_)\n",
    "print()\n",
    "print('Puntajes de la métrica f1 en el conjunto de validación:')\n",
    "print()\n",
    "means = grid_search.cv_results_['mean_test_score']\n",
    "stds = grid_search.cv_results_['std_test_score']\n",
    "for mean, std, params in zip(means, stds, grid_search.cv_results_['params']):\n",
    "    print('%0.4f (+/-%0.04f) for %r'\n",
    "          % (mean, std * 2, params))"
   ]
  },
  {
   "cell_type": "markdown",
   "metadata": {},
   "source": [
    "Se muestran los resultados tanto para entrenamiento como pruebas"
   ]
  },
  {
   "cell_type": "code",
   "execution_count": 504,
   "metadata": {},
   "outputs": [],
   "source": [
    "support_vector_model = grid_search\n",
    "\n",
    "support_vector_model_train_prediction = support_vector_model.predict(x_train)\n",
    "support_vector_model_test_prediction = support_vector_model.predict(x_test)"
   ]
  },
  {
   "cell_type": "code",
   "execution_count": 505,
   "metadata": {},
   "outputs": [
    {
     "name": "stdout",
     "output_type": "stream",
     "text": [
      "Máquina de soporte vectorial\n",
      "\t-Mejores hiper-parámetros: {'C': 100, 'gamma': 0.001, 'kernel': 'rbf', 'tol': 0.001}\n",
      "\t-Puntaje f1 en entrenamiento: 0.8397\n",
      "\t-Puntaje f1 en pruebas: 0.8290\n"
     ]
    }
   ],
   "source": [
    "from sklearn.metrics import f1_score\n",
    "\n",
    "print('Máquina de soporte vectorial')\n",
    "print('\\t-Mejores hiper-parámetros: ' + str(support_vector_model.best_params_))\n",
    "print('\\t-Puntaje f1 en entrenamiento: %.4f' % f1_score(y_train, support_vector_model_train_prediction, average = 'binary'))\n",
    "print('\\t-Puntaje f1 en pruebas: %.4f' % f1_score(y_test, support_vector_model_test_prediction, average = 'binary'))"
   ]
  },
  {
   "cell_type": "code",
   "execution_count": null,
   "metadata": {},
   "outputs": [],
   "source": []
  }
 ],
 "metadata": {
  "kernelspec": {
   "display_name": "Python 3",
   "language": "python",
   "name": "python3"
  },
  "language_info": {
   "codemirror_mode": {
    "name": "ipython",
    "version": 3
   },
   "file_extension": ".py",
   "mimetype": "text/x-python",
   "name": "python",
   "nbconvert_exporter": "python",
   "pygments_lexer": "ipython3",
   "version": "3.7.3"
  }
 },
 "nbformat": 4,
 "nbformat_minor": 2
}
