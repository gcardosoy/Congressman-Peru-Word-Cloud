{
 "cells": [
  {
   "cell_type": "markdown",
   "metadata": {},
   "source": [
    "# Filtrado y preprocesamiento\n",
    "\n",
    "En este notebook se realizará el filtrado y preprocesamiento de los tweets."
   ]
  },
  {
   "cell_type": "markdown",
   "metadata": {},
   "source": [
    "Se carga el archivo Excel que contiene los tweets en memoria"
   ]
  },
  {
   "cell_type": "code",
   "execution_count": 305,
   "metadata": {},
   "outputs": [],
   "source": [
    "import pandas as pd\n",
    "\n",
    "tweets_df = pd.read_csv(\"tweets.csv\", encoding = \"utf-8\")"
   ]
  },
  {
   "cell_type": "code",
   "execution_count": 306,
   "metadata": {},
   "outputs": [
    {
     "data": {
      "text/html": [
       "<div>\n",
       "<style scoped>\n",
       "    .dataframe tbody tr th:only-of-type {\n",
       "        vertical-align: middle;\n",
       "    }\n",
       "\n",
       "    .dataframe tbody tr th {\n",
       "        vertical-align: top;\n",
       "    }\n",
       "\n",
       "    .dataframe thead th {\n",
       "        text-align: right;\n",
       "    }\n",
       "</style>\n",
       "<table border=\"1\" class=\"dataframe\">\n",
       "  <thead>\n",
       "    <tr style=\"text-align: right;\">\n",
       "      <th></th>\n",
       "      <th>full_text</th>\n",
       "      <th>class</th>\n",
       "    </tr>\n",
       "  </thead>\n",
       "  <tbody>\n",
       "    <tr>\n",
       "      <th>0</th>\n",
       "      <td>totalmente satisfecho x q resolvieron mi  cons...</td>\n",
       "      <td>positivo</td>\n",
       "    </tr>\n",
       "    <tr>\n",
       "      <th>1</th>\n",
       "      <td>la atencion fue rapida y clara</td>\n",
       "      <td>positivo</td>\n",
       "    </tr>\n",
       "    <tr>\n",
       "      <th>2</th>\n",
       "      <td>me atendieron bien</td>\n",
       "      <td>positivo</td>\n",
       "    </tr>\n",
       "    <tr>\n",
       "      <th>3</th>\n",
       "      <td>fue muy rapido la atencion</td>\n",
       "      <td>positivo</td>\n",
       "    </tr>\n",
       "    <tr>\n",
       "      <th>4</th>\n",
       "      <td>por que me atendieron muy amablemente con buen...</td>\n",
       "      <td>positivo</td>\n",
       "    </tr>\n",
       "  </tbody>\n",
       "</table>\n",
       "</div>"
      ],
      "text/plain": [
       "                                           full_text     class\n",
       "0  totalmente satisfecho x q resolvieron mi  cons...  positivo\n",
       "1                     la atencion fue rapida y clara  positivo\n",
       "2                                 me atendieron bien  positivo\n",
       "3                         fue muy rapido la atencion  positivo\n",
       "4  por que me atendieron muy amablemente con buen...  positivo"
      ]
     },
     "execution_count": 306,
     "metadata": {},
     "output_type": "execute_result"
    }
   ],
   "source": [
    "tweets_df.head()"
   ]
  },
  {
   "cell_type": "code",
   "execution_count": 307,
   "metadata": {},
   "outputs": [
    {
     "data": {
      "text/plain": [
       "(13290, 2)"
      ]
     },
     "execution_count": 307,
     "metadata": {},
     "output_type": "execute_result"
    }
   ],
   "source": [
    "tweets_df.shape"
   ]
  },
  {
   "cell_type": "markdown",
   "metadata": {},
   "source": [
    "Se transforma el texto del tweet a minúsculas"
   ]
  },
  {
   "cell_type": "code",
   "execution_count": 308,
   "metadata": {},
   "outputs": [],
   "source": [
    "tweets_df[\"text\"] = tweets_df[\"full_text\"]"
   ]
  },
  {
   "cell_type": "code",
   "execution_count": 309,
   "metadata": {},
   "outputs": [],
   "source": [
    "tweets_df[\"text\"] = tweets_df[\"text\"].str.lower()"
   ]
  },
  {
   "cell_type": "code",
   "execution_count": 310,
   "metadata": {},
   "outputs": [
    {
     "data": {
      "text/html": [
       "<div>\n",
       "<style scoped>\n",
       "    .dataframe tbody tr th:only-of-type {\n",
       "        vertical-align: middle;\n",
       "    }\n",
       "\n",
       "    .dataframe tbody tr th {\n",
       "        vertical-align: top;\n",
       "    }\n",
       "\n",
       "    .dataframe thead th {\n",
       "        text-align: right;\n",
       "    }\n",
       "</style>\n",
       "<table border=\"1\" class=\"dataframe\">\n",
       "  <thead>\n",
       "    <tr style=\"text-align: right;\">\n",
       "      <th></th>\n",
       "      <th>full_text</th>\n",
       "      <th>class</th>\n",
       "      <th>text</th>\n",
       "    </tr>\n",
       "  </thead>\n",
       "  <tbody>\n",
       "    <tr>\n",
       "      <th>0</th>\n",
       "      <td>totalmente satisfecho x q resolvieron mi  cons...</td>\n",
       "      <td>positivo</td>\n",
       "      <td>totalmente satisfecho x q resolvieron mi  cons...</td>\n",
       "    </tr>\n",
       "    <tr>\n",
       "      <th>1</th>\n",
       "      <td>la atencion fue rapida y clara</td>\n",
       "      <td>positivo</td>\n",
       "      <td>la atencion fue rapida y clara</td>\n",
       "    </tr>\n",
       "    <tr>\n",
       "      <th>2</th>\n",
       "      <td>me atendieron bien</td>\n",
       "      <td>positivo</td>\n",
       "      <td>me atendieron bien</td>\n",
       "    </tr>\n",
       "    <tr>\n",
       "      <th>3</th>\n",
       "      <td>fue muy rapido la atencion</td>\n",
       "      <td>positivo</td>\n",
       "      <td>fue muy rapido la atencion</td>\n",
       "    </tr>\n",
       "    <tr>\n",
       "      <th>4</th>\n",
       "      <td>por que me atendieron muy amablemente con buen...</td>\n",
       "      <td>positivo</td>\n",
       "      <td>por que me atendieron muy amablemente con buen...</td>\n",
       "    </tr>\n",
       "  </tbody>\n",
       "</table>\n",
       "</div>"
      ],
      "text/plain": [
       "                                           full_text     class  \\\n",
       "0  totalmente satisfecho x q resolvieron mi  cons...  positivo   \n",
       "1                     la atencion fue rapida y clara  positivo   \n",
       "2                                 me atendieron bien  positivo   \n",
       "3                         fue muy rapido la atencion  positivo   \n",
       "4  por que me atendieron muy amablemente con buen...  positivo   \n",
       "\n",
       "                                                text  \n",
       "0  totalmente satisfecho x q resolvieron mi  cons...  \n",
       "1                     la atencion fue rapida y clara  \n",
       "2                                 me atendieron bien  \n",
       "3                         fue muy rapido la atencion  \n",
       "4  por que me atendieron muy amablemente con buen...  "
      ]
     },
     "execution_count": 310,
     "metadata": {},
     "output_type": "execute_result"
    }
   ],
   "source": [
    "tweets_df.head()"
   ]
  },
  {
   "cell_type": "markdown",
   "metadata": {},
   "source": [
    "Mediante el uso de una expresión regular se eliminar los links y referencias a usuarios"
   ]
  },
  {
   "cell_type": "code",
   "execution_count": 311,
   "metadata": {},
   "outputs": [],
   "source": [
    "import re\n",
    "\n",
    "tweets_df[\"text\"] = [re.sub(r\"(?:\\@|https?\\://)\\S+\", \"\", text) for text in tweets_df[\"text\"]]"
   ]
  },
  {
   "cell_type": "code",
   "execution_count": 312,
   "metadata": {},
   "outputs": [
    {
     "data": {
      "text/html": [
       "<div>\n",
       "<style scoped>\n",
       "    .dataframe tbody tr th:only-of-type {\n",
       "        vertical-align: middle;\n",
       "    }\n",
       "\n",
       "    .dataframe tbody tr th {\n",
       "        vertical-align: top;\n",
       "    }\n",
       "\n",
       "    .dataframe thead th {\n",
       "        text-align: right;\n",
       "    }\n",
       "</style>\n",
       "<table border=\"1\" class=\"dataframe\">\n",
       "  <thead>\n",
       "    <tr style=\"text-align: right;\">\n",
       "      <th></th>\n",
       "      <th>full_text</th>\n",
       "      <th>class</th>\n",
       "      <th>text</th>\n",
       "    </tr>\n",
       "  </thead>\n",
       "  <tbody>\n",
       "    <tr>\n",
       "      <th>0</th>\n",
       "      <td>totalmente satisfecho x q resolvieron mi  cons...</td>\n",
       "      <td>positivo</td>\n",
       "      <td>totalmente satisfecho x q resolvieron mi  cons...</td>\n",
       "    </tr>\n",
       "    <tr>\n",
       "      <th>1</th>\n",
       "      <td>la atencion fue rapida y clara</td>\n",
       "      <td>positivo</td>\n",
       "      <td>la atencion fue rapida y clara</td>\n",
       "    </tr>\n",
       "    <tr>\n",
       "      <th>2</th>\n",
       "      <td>me atendieron bien</td>\n",
       "      <td>positivo</td>\n",
       "      <td>me atendieron bien</td>\n",
       "    </tr>\n",
       "    <tr>\n",
       "      <th>3</th>\n",
       "      <td>fue muy rapido la atencion</td>\n",
       "      <td>positivo</td>\n",
       "      <td>fue muy rapido la atencion</td>\n",
       "    </tr>\n",
       "    <tr>\n",
       "      <th>4</th>\n",
       "      <td>por que me atendieron muy amablemente con buen...</td>\n",
       "      <td>positivo</td>\n",
       "      <td>por que me atendieron muy amablemente con buen...</td>\n",
       "    </tr>\n",
       "  </tbody>\n",
       "</table>\n",
       "</div>"
      ],
      "text/plain": [
       "                                           full_text     class  \\\n",
       "0  totalmente satisfecho x q resolvieron mi  cons...  positivo   \n",
       "1                     la atencion fue rapida y clara  positivo   \n",
       "2                                 me atendieron bien  positivo   \n",
       "3                         fue muy rapido la atencion  positivo   \n",
       "4  por que me atendieron muy amablemente con buen...  positivo   \n",
       "\n",
       "                                                text  \n",
       "0  totalmente satisfecho x q resolvieron mi  cons...  \n",
       "1                     la atencion fue rapida y clara  \n",
       "2                                 me atendieron bien  \n",
       "3                         fue muy rapido la atencion  \n",
       "4  por que me atendieron muy amablemente con buen...  "
      ]
     },
     "execution_count": 312,
     "metadata": {},
     "output_type": "execute_result"
    }
   ],
   "source": [
    "tweets_df.head()"
   ]
  },
  {
   "cell_type": "markdown",
   "metadata": {},
   "source": [
    "Se reemplazan las vocales con signos diacrítos por vocales sin signos diacríticos."
   ]
  },
  {
   "cell_type": "code",
   "execution_count": 313,
   "metadata": {},
   "outputs": [],
   "source": [
    "intab = \"áéíóúïü\"\n",
    "outtab = \"aeiouiu\"\n",
    "trantab = str.maketrans(intab, outtab)\n",
    "\n",
    "tweets_df[\"text\"] = [text.translate(trantab) for text in tweets_df[\"text\"]]"
   ]
  },
  {
   "cell_type": "code",
   "execution_count": 314,
   "metadata": {},
   "outputs": [
    {
     "data": {
      "text/html": [
       "<div>\n",
       "<style scoped>\n",
       "    .dataframe tbody tr th:only-of-type {\n",
       "        vertical-align: middle;\n",
       "    }\n",
       "\n",
       "    .dataframe tbody tr th {\n",
       "        vertical-align: top;\n",
       "    }\n",
       "\n",
       "    .dataframe thead th {\n",
       "        text-align: right;\n",
       "    }\n",
       "</style>\n",
       "<table border=\"1\" class=\"dataframe\">\n",
       "  <thead>\n",
       "    <tr style=\"text-align: right;\">\n",
       "      <th></th>\n",
       "      <th>full_text</th>\n",
       "      <th>class</th>\n",
       "      <th>text</th>\n",
       "    </tr>\n",
       "  </thead>\n",
       "  <tbody>\n",
       "    <tr>\n",
       "      <th>0</th>\n",
       "      <td>totalmente satisfecho x q resolvieron mi  cons...</td>\n",
       "      <td>positivo</td>\n",
       "      <td>totalmente satisfecho x q resolvieron mi  cons...</td>\n",
       "    </tr>\n",
       "    <tr>\n",
       "      <th>1</th>\n",
       "      <td>la atencion fue rapida y clara</td>\n",
       "      <td>positivo</td>\n",
       "      <td>la atencion fue rapida y clara</td>\n",
       "    </tr>\n",
       "    <tr>\n",
       "      <th>2</th>\n",
       "      <td>me atendieron bien</td>\n",
       "      <td>positivo</td>\n",
       "      <td>me atendieron bien</td>\n",
       "    </tr>\n",
       "    <tr>\n",
       "      <th>3</th>\n",
       "      <td>fue muy rapido la atencion</td>\n",
       "      <td>positivo</td>\n",
       "      <td>fue muy rapido la atencion</td>\n",
       "    </tr>\n",
       "    <tr>\n",
       "      <th>4</th>\n",
       "      <td>por que me atendieron muy amablemente con buen...</td>\n",
       "      <td>positivo</td>\n",
       "      <td>por que me atendieron muy amablemente con buen...</td>\n",
       "    </tr>\n",
       "  </tbody>\n",
       "</table>\n",
       "</div>"
      ],
      "text/plain": [
       "                                           full_text     class  \\\n",
       "0  totalmente satisfecho x q resolvieron mi  cons...  positivo   \n",
       "1                     la atencion fue rapida y clara  positivo   \n",
       "2                                 me atendieron bien  positivo   \n",
       "3                         fue muy rapido la atencion  positivo   \n",
       "4  por que me atendieron muy amablemente con buen...  positivo   \n",
       "\n",
       "                                                text  \n",
       "0  totalmente satisfecho x q resolvieron mi  cons...  \n",
       "1                     la atencion fue rapida y clara  \n",
       "2                                 me atendieron bien  \n",
       "3                         fue muy rapido la atencion  \n",
       "4  por que me atendieron muy amablemente con buen...  "
      ]
     },
     "execution_count": 314,
     "metadata": {},
     "output_type": "execute_result"
    }
   ],
   "source": [
    "tweets_df.head()"
   ]
  },
  {
   "cell_type": "markdown",
   "metadata": {},
   "source": [
    "Se eliminan todos los caracteres que no estén en el alfabeto o sean espacios en blanco"
   ]
  },
  {
   "cell_type": "code",
   "execution_count": 315,
   "metadata": {},
   "outputs": [],
   "source": [
    "tweets_df[\"text\"] = tweets_df[\"text\"].str.replace(\"[^a-zñ\\s]\", \"\")"
   ]
  },
  {
   "cell_type": "code",
   "execution_count": 316,
   "metadata": {},
   "outputs": [
    {
     "data": {
      "text/html": [
       "<div>\n",
       "<style scoped>\n",
       "    .dataframe tbody tr th:only-of-type {\n",
       "        vertical-align: middle;\n",
       "    }\n",
       "\n",
       "    .dataframe tbody tr th {\n",
       "        vertical-align: top;\n",
       "    }\n",
       "\n",
       "    .dataframe thead th {\n",
       "        text-align: right;\n",
       "    }\n",
       "</style>\n",
       "<table border=\"1\" class=\"dataframe\">\n",
       "  <thead>\n",
       "    <tr style=\"text-align: right;\">\n",
       "      <th></th>\n",
       "      <th>full_text</th>\n",
       "      <th>class</th>\n",
       "      <th>text</th>\n",
       "    </tr>\n",
       "  </thead>\n",
       "  <tbody>\n",
       "    <tr>\n",
       "      <th>0</th>\n",
       "      <td>totalmente satisfecho x q resolvieron mi  cons...</td>\n",
       "      <td>positivo</td>\n",
       "      <td>totalmente satisfecho x q resolvieron mi  cons...</td>\n",
       "    </tr>\n",
       "    <tr>\n",
       "      <th>1</th>\n",
       "      <td>la atencion fue rapida y clara</td>\n",
       "      <td>positivo</td>\n",
       "      <td>la atencion fue rapida y clara</td>\n",
       "    </tr>\n",
       "    <tr>\n",
       "      <th>2</th>\n",
       "      <td>me atendieron bien</td>\n",
       "      <td>positivo</td>\n",
       "      <td>me atendieron bien</td>\n",
       "    </tr>\n",
       "    <tr>\n",
       "      <th>3</th>\n",
       "      <td>fue muy rapido la atencion</td>\n",
       "      <td>positivo</td>\n",
       "      <td>fue muy rapido la atencion</td>\n",
       "    </tr>\n",
       "    <tr>\n",
       "      <th>4</th>\n",
       "      <td>por que me atendieron muy amablemente con buen...</td>\n",
       "      <td>positivo</td>\n",
       "      <td>por que me atendieron muy amablemente con buen...</td>\n",
       "    </tr>\n",
       "  </tbody>\n",
       "</table>\n",
       "</div>"
      ],
      "text/plain": [
       "                                           full_text     class  \\\n",
       "0  totalmente satisfecho x q resolvieron mi  cons...  positivo   \n",
       "1                     la atencion fue rapida y clara  positivo   \n",
       "2                                 me atendieron bien  positivo   \n",
       "3                         fue muy rapido la atencion  positivo   \n",
       "4  por que me atendieron muy amablemente con buen...  positivo   \n",
       "\n",
       "                                                text  \n",
       "0  totalmente satisfecho x q resolvieron mi  cons...  \n",
       "1                     la atencion fue rapida y clara  \n",
       "2                                 me atendieron bien  \n",
       "3                         fue muy rapido la atencion  \n",
       "4  por que me atendieron muy amablemente con buen...  "
      ]
     },
     "execution_count": 316,
     "metadata": {},
     "output_type": "execute_result"
    }
   ],
   "source": [
    "tweets_df.head()"
   ]
  },
  {
   "cell_type": "markdown",
   "metadata": {},
   "source": [
    "Mediante el corpus en español de stop words de NLTK se eliminan estas palabras del texto de los tweets"
   ]
  },
  {
   "cell_type": "code",
   "execution_count": 317,
   "metadata": {},
   "outputs": [],
   "source": [
    "#from nltk.corpus import stopwords\n",
    "\n",
    "#stop = stopwords.words(\"spanish\")\n",
    "#tweets_df[\"text\"] = tweets_df[\"text\"].apply(lambda x: \" \".join(x for x in x.split() if x not in stop))"
   ]
  },
  {
   "cell_type": "code",
   "execution_count": 318,
   "metadata": {},
   "outputs": [
    {
     "data": {
      "text/html": [
       "<div>\n",
       "<style scoped>\n",
       "    .dataframe tbody tr th:only-of-type {\n",
       "        vertical-align: middle;\n",
       "    }\n",
       "\n",
       "    .dataframe tbody tr th {\n",
       "        vertical-align: top;\n",
       "    }\n",
       "\n",
       "    .dataframe thead th {\n",
       "        text-align: right;\n",
       "    }\n",
       "</style>\n",
       "<table border=\"1\" class=\"dataframe\">\n",
       "  <thead>\n",
       "    <tr style=\"text-align: right;\">\n",
       "      <th></th>\n",
       "      <th>full_text</th>\n",
       "      <th>class</th>\n",
       "      <th>text</th>\n",
       "    </tr>\n",
       "  </thead>\n",
       "  <tbody>\n",
       "    <tr>\n",
       "      <th>0</th>\n",
       "      <td>totalmente satisfecho x q resolvieron mi  cons...</td>\n",
       "      <td>positivo</td>\n",
       "      <td>totalmente satisfecho x q resolvieron mi  cons...</td>\n",
       "    </tr>\n",
       "    <tr>\n",
       "      <th>1</th>\n",
       "      <td>la atencion fue rapida y clara</td>\n",
       "      <td>positivo</td>\n",
       "      <td>la atencion fue rapida y clara</td>\n",
       "    </tr>\n",
       "    <tr>\n",
       "      <th>2</th>\n",
       "      <td>me atendieron bien</td>\n",
       "      <td>positivo</td>\n",
       "      <td>me atendieron bien</td>\n",
       "    </tr>\n",
       "    <tr>\n",
       "      <th>3</th>\n",
       "      <td>fue muy rapido la atencion</td>\n",
       "      <td>positivo</td>\n",
       "      <td>fue muy rapido la atencion</td>\n",
       "    </tr>\n",
       "    <tr>\n",
       "      <th>4</th>\n",
       "      <td>por que me atendieron muy amablemente con buen...</td>\n",
       "      <td>positivo</td>\n",
       "      <td>por que me atendieron muy amablemente con buen...</td>\n",
       "    </tr>\n",
       "  </tbody>\n",
       "</table>\n",
       "</div>"
      ],
      "text/plain": [
       "                                           full_text     class  \\\n",
       "0  totalmente satisfecho x q resolvieron mi  cons...  positivo   \n",
       "1                     la atencion fue rapida y clara  positivo   \n",
       "2                                 me atendieron bien  positivo   \n",
       "3                         fue muy rapido la atencion  positivo   \n",
       "4  por que me atendieron muy amablemente con buen...  positivo   \n",
       "\n",
       "                                                text  \n",
       "0  totalmente satisfecho x q resolvieron mi  cons...  \n",
       "1                     la atencion fue rapida y clara  \n",
       "2                                 me atendieron bien  \n",
       "3                         fue muy rapido la atencion  \n",
       "4  por que me atendieron muy amablemente con buen...  "
      ]
     },
     "execution_count": 318,
     "metadata": {},
     "output_type": "execute_result"
    }
   ],
   "source": [
    "tweets_df.head()"
   ]
  },
  {
   "cell_type": "markdown",
   "metadata": {},
   "source": [
    "Fase de stemming, se obtiene el raiz de cada una de las palabras de los textos de los tweets."
   ]
  },
  {
   "cell_type": "code",
   "execution_count": 319,
   "metadata": {},
   "outputs": [],
   "source": [
    "from nltk.stem.snowball import SnowballStemmer\n",
    "st = SnowballStemmer('spanish')\n",
    "\n",
    "tweets_df[\"text\"] = tweets_df[\"text\"].apply(lambda x: \" \".join([st.stem(word) for word in x.split()]))"
   ]
  },
  {
   "cell_type": "code",
   "execution_count": 320,
   "metadata": {},
   "outputs": [
    {
     "data": {
      "text/html": [
       "<div>\n",
       "<style scoped>\n",
       "    .dataframe tbody tr th:only-of-type {\n",
       "        vertical-align: middle;\n",
       "    }\n",
       "\n",
       "    .dataframe tbody tr th {\n",
       "        vertical-align: top;\n",
       "    }\n",
       "\n",
       "    .dataframe thead th {\n",
       "        text-align: right;\n",
       "    }\n",
       "</style>\n",
       "<table border=\"1\" class=\"dataframe\">\n",
       "  <thead>\n",
       "    <tr style=\"text-align: right;\">\n",
       "      <th></th>\n",
       "      <th>full_text</th>\n",
       "      <th>class</th>\n",
       "      <th>text</th>\n",
       "    </tr>\n",
       "  </thead>\n",
       "  <tbody>\n",
       "    <tr>\n",
       "      <th>0</th>\n",
       "      <td>totalmente satisfecho x q resolvieron mi  cons...</td>\n",
       "      <td>positivo</td>\n",
       "      <td>total satisfech x q resolv mi consult y x q la...</td>\n",
       "    </tr>\n",
       "    <tr>\n",
       "      <th>1</th>\n",
       "      <td>la atencion fue rapida y clara</td>\n",
       "      <td>positivo</td>\n",
       "      <td>la atencion fue rap y clar</td>\n",
       "    </tr>\n",
       "    <tr>\n",
       "      <th>2</th>\n",
       "      <td>me atendieron bien</td>\n",
       "      <td>positivo</td>\n",
       "      <td>me atend bien</td>\n",
       "    </tr>\n",
       "    <tr>\n",
       "      <th>3</th>\n",
       "      <td>fue muy rapido la atencion</td>\n",
       "      <td>positivo</td>\n",
       "      <td>fue muy rap la atencion</td>\n",
       "    </tr>\n",
       "    <tr>\n",
       "      <th>4</th>\n",
       "      <td>por que me atendieron muy amablemente con buen...</td>\n",
       "      <td>positivo</td>\n",
       "      <td>por que me atend muy amabl con buen actitud en...</td>\n",
       "    </tr>\n",
       "  </tbody>\n",
       "</table>\n",
       "</div>"
      ],
      "text/plain": [
       "                                           full_text     class  \\\n",
       "0  totalmente satisfecho x q resolvieron mi  cons...  positivo   \n",
       "1                     la atencion fue rapida y clara  positivo   \n",
       "2                                 me atendieron bien  positivo   \n",
       "3                         fue muy rapido la atencion  positivo   \n",
       "4  por que me atendieron muy amablemente con buen...  positivo   \n",
       "\n",
       "                                                text  \n",
       "0  total satisfech x q resolv mi consult y x q la...  \n",
       "1                         la atencion fue rap y clar  \n",
       "2                                      me atend bien  \n",
       "3                            fue muy rap la atencion  \n",
       "4  por que me atend muy amabl con buen actitud en...  "
      ]
     },
     "execution_count": 320,
     "metadata": {},
     "output_type": "execute_result"
    }
   ],
   "source": [
    "tweets_df.head()"
   ]
  },
  {
   "cell_type": "markdown",
   "metadata": {},
   "source": [
    "Se guarda los tweets preprocesados en un Excel"
   ]
  },
  {
   "cell_type": "code",
   "execution_count": 321,
   "metadata": {},
   "outputs": [],
   "source": [
    "tweets_df.to_csv(\"tweets_preprocessed.csv\", encoding = \"utf-8-sig\", index = False)"
   ]
  },
  {
   "cell_type": "code",
   "execution_count": null,
   "metadata": {},
   "outputs": [],
   "source": []
  }
 ],
 "metadata": {
  "kernelspec": {
   "display_name": "Python 3",
   "language": "python",
   "name": "python3"
  },
  "language_info": {
   "codemirror_mode": {
    "name": "ipython",
    "version": 3
   },
   "file_extension": ".py",
   "mimetype": "text/x-python",
   "name": "python",
   "nbconvert_exporter": "python",
   "pygments_lexer": "ipython3",
   "version": "3.7.3"
  }
 },
 "nbformat": 4,
 "nbformat_minor": 2
}
