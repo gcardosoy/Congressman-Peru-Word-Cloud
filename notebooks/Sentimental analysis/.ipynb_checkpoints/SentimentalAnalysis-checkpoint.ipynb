{
 "cells": [
  {
   "cell_type": "code",
   "execution_count": 1,
   "metadata": {},
   "outputs": [],
   "source": [
    "import pandas as pd\n",
    "import re\n",
    "from nltk.stem.snowball import SnowballStemmer\n",
    "\n",
    "def PreProcessing():\n",
    "    df = pd.read_csv(\"comments.csv\", encoding = \"utf-8\")\n",
    "    \n",
    "    df[\"text\"] = df[\"full_text\"]\n",
    "    df[\"text\"] = df[\"text\"].str.lower()\n",
    "    df[\"text\"] = [re.sub(r\"(?:\\@|https?\\://)\\S+\", \"\", text) for text in df[\"text\"]]\n",
    "    \n",
    "    intab = \"áéíóúïü\"\n",
    "    outtab = \"aeiouiu\"\n",
    "    trantab = str.maketrans(intab, outtab)\n",
    "    df[\"text\"] = [text.translate(trantab) for text in df[\"text\"]]\n",
    "    \n",
    "    df[\"text\"] = df[\"text\"].str.replace(\"[^a-zñ\\s]\", \"\")\n",
    "    \n",
    "    st = SnowballStemmer(\"spanish\")\n",
    "    df[\"text\"] = df[\"text\"].apply(lambda x: \" \".join([st.stem(word) for word in x.split()]))\n",
    "    \n",
    "    return df"
   ]
  },
  {
   "cell_type": "code",
   "execution_count": 2,
   "metadata": {},
   "outputs": [],
   "source": [
    "import pandas as pd\n",
    "import warnings\n",
    "import numpy as np\n",
    "from gensim.models import word2vec\n",
    "\n",
    "size = 100\n",
    "w2v_model = None\n",
    "\n",
    "def GetFVs(comment):\n",
    "    words = str(comment).split()\n",
    "    vector = np.zeros(size)\n",
    "    k = 0\n",
    "    for w in words:\n",
    "        if w in w2v_model.wv.vocab:\n",
    "            vector = vector + w2v_model[w].tolist()\n",
    "            k = k + 1\n",
    "    \n",
    "    if k > 0:\n",
    "        mean_vector = vector / k\n",
    "    else:\n",
    "        mean_vector = vector\n",
    "            \n",
    "    return mean_vector\n",
    "\n",
    "def FeatureExtraction(df):\n",
    "    warnings.filterwarnings(\"ignore\")\n",
    "    global w2v_model\n",
    "    \n",
    "    df2 = pd.DataFrame(df[\"text\"].values)\n",
    "    np.savetxt(\"comments.txt\", df2, fmt = \"%s\", encoding = \"utf-8\")\n",
    "    comments = word2vec.Text8Corpus(\"comments.txt\")\n",
    "    w2v_model = word2vec.Word2Vec(sentences = comments, size = size, min_count = 3)\n",
    "    y = df[\"class\"]\n",
    "    \n",
    "    comments_fvs = []\n",
    "    for comment in df[\"text\"]:\n",
    "        fvs = GetFVs(comment)\n",
    "        comments_fvs.append(fvs)\n",
    "\n",
    "    column_names = [\"f\" + str(i) for i in range(1, size + 1)]\n",
    "    column_names.append(\"class\")\n",
    "\n",
    "    x = comments_fvs\n",
    "    df = pd.DataFrame(x) \n",
    "    df[\"class\"] = y\n",
    "    df.columns = column_names\n",
    "\n",
    "    return df"
   ]
  },
  {
   "cell_type": "code",
   "execution_count": 3,
   "metadata": {},
   "outputs": [],
   "source": [
    "import pandas as pd\n",
    "from sklearn.preprocessing import StandardScaler\n",
    "from sklearn.model_selection import train_test_split\n",
    "from sklearn.model_selection import GridSearchCV\n",
    "from sklearn.svm import SVC\n",
    "from sklearn.metrics import f1_score\n",
    "\n",
    "scaler = None\n",
    "\n",
    "def MachineLearning(df):\n",
    "    df.drop(df[ df[\"class\"] == \"neutro\"].index, inplace = True)\n",
    "    \n",
    "    x = df.drop(\"class\", axis = 1, inplace = False)\n",
    "    df[\"class\"] = [5 if tag == \"positivo\"  else 1 for tag in df[\"class\"]]\n",
    "    y = df[\"class\"]\n",
    "    \n",
    "    global scaler\n",
    "    \n",
    "    scaler = StandardScaler().fit(x)\n",
    "    normalized_x = scaler.transform(x)\n",
    "    x_train, x_test, y_train, y_test = train_test_split(normalized_x,\n",
    "                                                        y,\n",
    "                                                        test_size = 0.2,\n",
    "                                                        random_state = 0,\n",
    "                                                        stratify = y)\n",
    "\n",
    "    param_grid = {  \n",
    "        'C': [100],\n",
    "        'gamma': [0.001],\n",
    "        'kernel': ['rbf'],\n",
    "        'tol': [0.001]\n",
    "    }\n",
    "    \n",
    "    grid_search = GridSearchCV(estimator = SVC(),\n",
    "                               param_grid = param_grid,\n",
    "                               scoring = 'f1',\n",
    "                               cv = 5)\n",
    "\n",
    "    grid_search.fit(x_train, y_train)\n",
    "    support_vector_model = grid_search\n",
    "    support_vector_model_train_prediction = support_vector_model.predict(x_train)\n",
    "    support_vector_model_test_prediction = support_vector_model.predict(x_test)\n",
    "    \n",
    "    return support_vector_model"
   ]
  },
  {
   "cell_type": "code",
   "execution_count": 4,
   "metadata": {},
   "outputs": [],
   "source": [
    "def PreProcess(comment):\n",
    "    comment = comment.lower()\n",
    "    comment = re.sub(r\"(?:\\@|https?\\://)\\S+\", \"\", comment) \n",
    "    \n",
    "    intab = \"áéíóúïü\"\n",
    "    outtab = \"aeiouiu\"\n",
    "    trantab = str.maketrans(intab, outtab)\n",
    "    comment = comment.translate(trantab)\n",
    "    \n",
    "    comment = comment.replace(\"[^a-zñ\\s]\", \"\")\n",
    "    \n",
    "    st = SnowballStemmer(\"spanish\")\n",
    "    comment = \" \".join([st.stem(word) for word in comment.split()])\n",
    "    \n",
    "    return comment"
   ]
  },
  {
   "cell_type": "code",
   "execution_count": 5,
   "metadata": {},
   "outputs": [],
   "source": [
    "def Predict(model, comment):\n",
    "    comment = PreProcess(comment)\n",
    "    x = GetFVs(comment).reshape(1, -1)\n",
    "    x = scaler.transform(x)\n",
    "    predicted = \"positivo\" if model.predict(x)[0] == 5 else \"negativo\"\n",
    "    \n",
    "    return predicted"
   ]
  },
  {
   "cell_type": "code",
   "execution_count": 6,
   "metadata": {},
   "outputs": [],
   "source": [
    "def TrainModel():\n",
    "    df = PreProcessing()\n",
    "    df = FeatureExtraction(df)\n",
    "    model = MachineLearning(df)\n",
    "    \n",
    "    return model"
   ]
  },
  {
   "cell_type": "code",
   "execution_count": 7,
   "metadata": {},
   "outputs": [],
   "source": [
    "model = TrainModel()"
   ]
  },
  {
   "cell_type": "code",
   "execution_count": 12,
   "metadata": {},
   "outputs": [
    {
     "name": "stdout",
     "output_type": "stream",
     "text": [
      "positivo\n"
     ]
    }
   ],
   "source": [
    "comment = \"Muy buena labor del congresita, exitos!\"\n",
    "print(Predict(model, comment))"
   ]
  },
  {
   "cell_type": "code",
   "execution_count": 13,
   "metadata": {},
   "outputs": [
    {
     "name": "stdout",
     "output_type": "stream",
     "text": [
      "negativo\n"
     ]
    }
   ],
   "source": [
    "comment = \"Congresista, corrupto, es un vendido. Deberia estar en la carcel\"\n",
    "print(Predict(model, comment))"
   ]
  },
  {
   "cell_type": "code",
   "execution_count": 14,
   "metadata": {},
   "outputs": [
    {
     "name": "stdout",
     "output_type": "stream",
     "text": [
      "positivo\n"
     ]
    }
   ],
   "source": [
    "comment = \"Muchas gracias por el buen trabajo, espero verlo en el segundo periodo\"\n",
    "print(Predict(model, comment))"
   ]
  },
  {
   "cell_type": "code",
   "execution_count": 15,
   "metadata": {},
   "outputs": [
    {
     "name": "stdout",
     "output_type": "stream",
     "text": [
      "negativo\n"
     ]
    }
   ],
   "source": [
    "comment = \"El robo mucho dinero al peru, no tiene sangre en la cara\"\n",
    "print(Predict(model, comment))"
   ]
  }
 ],
 "metadata": {
  "kernelspec": {
   "display_name": "Python 3",
   "language": "python",
   "name": "python3"
  },
  "language_info": {
   "codemirror_mode": {
    "name": "ipython",
    "version": 3
   },
   "file_extension": ".py",
   "mimetype": "text/x-python",
   "name": "python",
   "nbconvert_exporter": "python",
   "pygments_lexer": "ipython3",
   "version": "3.7.3"
  }
 },
 "nbformat": 4,
 "nbformat_minor": 2
}
