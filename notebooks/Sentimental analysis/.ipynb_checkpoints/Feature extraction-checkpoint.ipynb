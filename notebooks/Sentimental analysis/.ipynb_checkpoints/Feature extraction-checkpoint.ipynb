{
 "cells": [
  {
   "cell_type": "markdown",
   "metadata": {},
   "source": [
    "# Extracción de características\n",
    "\n",
    "En este notebook se realizará la extración de características a través de word2vec y k-means"
   ]
  },
  {
   "cell_type": "code",
   "execution_count": 372,
   "metadata": {},
   "outputs": [],
   "source": [
    "import pandas as pd\n",
    "import warnings\n",
    "\n",
    "warnings.filterwarnings(\"ignore\")"
   ]
  },
  {
   "cell_type": "markdown",
   "metadata": {},
   "source": [
    "Se carga el archivo Excel que contiene los tweets en memoria"
   ]
  },
  {
   "cell_type": "code",
   "execution_count": 373,
   "metadata": {},
   "outputs": [],
   "source": [
    "df = pd.read_csv(\"tweets_preprocessed.csv\", encoding = \"utf-8\")"
   ]
  },
  {
   "cell_type": "code",
   "execution_count": 374,
   "metadata": {},
   "outputs": [
    {
     "data": {
      "text/html": [
       "<div>\n",
       "<style scoped>\n",
       "    .dataframe tbody tr th:only-of-type {\n",
       "        vertical-align: middle;\n",
       "    }\n",
       "\n",
       "    .dataframe tbody tr th {\n",
       "        vertical-align: top;\n",
       "    }\n",
       "\n",
       "    .dataframe thead th {\n",
       "        text-align: right;\n",
       "    }\n",
       "</style>\n",
       "<table border=\"1\" class=\"dataframe\">\n",
       "  <thead>\n",
       "    <tr style=\"text-align: right;\">\n",
       "      <th></th>\n",
       "      <th>full_text</th>\n",
       "      <th>class</th>\n",
       "      <th>text</th>\n",
       "    </tr>\n",
       "  </thead>\n",
       "  <tbody>\n",
       "    <tr>\n",
       "      <th>0</th>\n",
       "      <td>totalmente satisfecho x q resolvieron mi  cons...</td>\n",
       "      <td>positivo</td>\n",
       "      <td>total satisfech x q resolv mi consult y x q la...</td>\n",
       "    </tr>\n",
       "    <tr>\n",
       "      <th>1</th>\n",
       "      <td>la atencion fue rapida y clara</td>\n",
       "      <td>positivo</td>\n",
       "      <td>la atencion fue rap y clar</td>\n",
       "    </tr>\n",
       "    <tr>\n",
       "      <th>2</th>\n",
       "      <td>me atendieron bien</td>\n",
       "      <td>positivo</td>\n",
       "      <td>me atend bien</td>\n",
       "    </tr>\n",
       "    <tr>\n",
       "      <th>3</th>\n",
       "      <td>fue muy rapido la atencion</td>\n",
       "      <td>positivo</td>\n",
       "      <td>fue muy rap la atencion</td>\n",
       "    </tr>\n",
       "    <tr>\n",
       "      <th>4</th>\n",
       "      <td>por que me atendieron muy amablemente con buen...</td>\n",
       "      <td>positivo</td>\n",
       "      <td>por que me atend muy amabl con buen actitud en...</td>\n",
       "    </tr>\n",
       "  </tbody>\n",
       "</table>\n",
       "</div>"
      ],
      "text/plain": [
       "                                           full_text     class  \\\n",
       "0  totalmente satisfecho x q resolvieron mi  cons...  positivo   \n",
       "1                     la atencion fue rapida y clara  positivo   \n",
       "2                                 me atendieron bien  positivo   \n",
       "3                         fue muy rapido la atencion  positivo   \n",
       "4  por que me atendieron muy amablemente con buen...  positivo   \n",
       "\n",
       "                                                text  \n",
       "0  total satisfech x q resolv mi consult y x q la...  \n",
       "1                         la atencion fue rap y clar  \n",
       "2                                      me atend bien  \n",
       "3                            fue muy rap la atencion  \n",
       "4  por que me atend muy amabl con buen actitud en...  "
      ]
     },
     "execution_count": 374,
     "metadata": {},
     "output_type": "execute_result"
    }
   ],
   "source": [
    "df.head()"
   ]
  },
  {
   "cell_type": "markdown",
   "metadata": {},
   "source": [
    "Se obtiene un dataframe solo con la información del texto de los tweets"
   ]
  },
  {
   "cell_type": "code",
   "execution_count": 375,
   "metadata": {},
   "outputs": [],
   "source": [
    "import numpy as np\n",
    "\n",
    "df2 = pd.DataFrame(df[\"text\"].values)"
   ]
  },
  {
   "cell_type": "code",
   "execution_count": 376,
   "metadata": {},
   "outputs": [
    {
     "data": {
      "text/html": [
       "<div>\n",
       "<style scoped>\n",
       "    .dataframe tbody tr th:only-of-type {\n",
       "        vertical-align: middle;\n",
       "    }\n",
       "\n",
       "    .dataframe tbody tr th {\n",
       "        vertical-align: top;\n",
       "    }\n",
       "\n",
       "    .dataframe thead th {\n",
       "        text-align: right;\n",
       "    }\n",
       "</style>\n",
       "<table border=\"1\" class=\"dataframe\">\n",
       "  <thead>\n",
       "    <tr style=\"text-align: right;\">\n",
       "      <th></th>\n",
       "      <th>0</th>\n",
       "    </tr>\n",
       "  </thead>\n",
       "  <tbody>\n",
       "    <tr>\n",
       "      <th>0</th>\n",
       "      <td>total satisfech x q resolv mi consult y x q la...</td>\n",
       "    </tr>\n",
       "    <tr>\n",
       "      <th>1</th>\n",
       "      <td>la atencion fue rap y clar</td>\n",
       "    </tr>\n",
       "    <tr>\n",
       "      <th>2</th>\n",
       "      <td>me atend bien</td>\n",
       "    </tr>\n",
       "    <tr>\n",
       "      <th>3</th>\n",
       "      <td>fue muy rap la atencion</td>\n",
       "    </tr>\n",
       "    <tr>\n",
       "      <th>4</th>\n",
       "      <td>por que me atend muy amabl con buen actitud en...</td>\n",
       "    </tr>\n",
       "  </tbody>\n",
       "</table>\n",
       "</div>"
      ],
      "text/plain": [
       "                                                   0\n",
       "0  total satisfech x q resolv mi consult y x q la...\n",
       "1                         la atencion fue rap y clar\n",
       "2                                      me atend bien\n",
       "3                            fue muy rap la atencion\n",
       "4  por que me atend muy amabl con buen actitud en..."
      ]
     },
     "execution_count": 376,
     "metadata": {},
     "output_type": "execute_result"
    }
   ],
   "source": [
    "df2.head()"
   ]
  },
  {
   "cell_type": "markdown",
   "metadata": {},
   "source": [
    "Se guarda el texto de los tweets en una hoja de texto"
   ]
  },
  {
   "cell_type": "code",
   "execution_count": 377,
   "metadata": {},
   "outputs": [],
   "source": [
    "np.savetxt(\"tweets.txt\", df2, fmt = \"%s\", encoding = \"utf-8\")"
   ]
  },
  {
   "cell_type": "markdown",
   "metadata": {},
   "source": [
    "Se carga carga el archivo de texto de los tweets a través de la clase word2vec"
   ]
  },
  {
   "cell_type": "code",
   "execution_count": 378,
   "metadata": {},
   "outputs": [],
   "source": [
    "from gensim.models import word2vec\n",
    "\n",
    "tweets = word2vec.Text8Corpus(\"tweets.txt\")"
   ]
  },
  {
   "cell_type": "markdown",
   "metadata": {},
   "source": [
    "Se genera el modelo word2vec.\n",
    "Parametros:\n",
    "    * sentences = tweets\n",
    "    * size = dimensionalidad de los vectores de palabras\n",
    "    * min_count = ignora las palabras que tengan menor cantidad de caracteres que esto"
   ]
  },
  {
   "cell_type": "code",
   "execution_count": 379,
   "metadata": {},
   "outputs": [],
   "source": [
    "size = 100"
   ]
  },
  {
   "cell_type": "code",
   "execution_count": 380,
   "metadata": {},
   "outputs": [],
   "source": [
    "w2v_model = word2vec.Word2Vec(sentences = tweets, size = size, min_count = 3)"
   ]
  },
  {
   "cell_type": "markdown",
   "metadata": {},
   "source": [
    "Funcion para obtener los vectores de caracteristicas de determinado tweet"
   ]
  },
  {
   "cell_type": "code",
   "execution_count": 381,
   "metadata": {},
   "outputs": [],
   "source": [
    "def GetFVs(tweet):\n",
    "    words = str(tweet).split()\n",
    "    vectors = []\n",
    "    for w in words:\n",
    "        if w in w2v_model.wv.vocab:\n",
    "            vectors.append(w2v_model[w].tolist())\n",
    "    \n",
    "    return vectors"
   ]
  },
  {
   "cell_type": "code",
   "execution_count": 382,
   "metadata": {},
   "outputs": [],
   "source": [
    "y = df[\"class\"]"
   ]
  },
  {
   "cell_type": "markdown",
   "metadata": {},
   "source": [
    "Se obtiene todos los vectores característicos de las palabras en los textos de los tweets"
   ]
  },
  {
   "cell_type": "code",
   "execution_count": 383,
   "metadata": {},
   "outputs": [],
   "source": [
    "tweets_fvs = []\n",
    "for tweet in df[\"text\"]:\n",
    "    fvs = GetFVs(tweet)\n",
    "    tweets_fvs.append(fvs)"
   ]
  },
  {
   "cell_type": "markdown",
   "metadata": {},
   "source": [
    "Se recorre la lista de tweets, se recorre la lista de palabras por tweet. Por cada palabra del tweet se halla a qué centroide de los clusters se encuentra más cerca dependiendo de la distancia coseno y luego se aumenta el 1 el valor del nuevo vector de características del tweet en la posición del cluster más cercano."
   ]
  },
  {
   "cell_type": "code",
   "execution_count": 384,
   "metadata": {},
   "outputs": [],
   "source": [
    "new_tweet_fvs = []\n",
    "\n",
    "for tweet_fvs in tweets_fvs:\n",
    "    new_tweet_fv = np.zeros(size)\n",
    "    \n",
    "    k = 0\n",
    "    for tweet_fs in tweet_fvs:\n",
    "        new_tweet_fv =  new_tweet_fv + tweet_fs\n",
    "        k = k + 1\n",
    "        \n",
    "    if k > 0:\n",
    "        new_tweet_fvs.append(new_tweet_fv / k)\n",
    "    else:\n",
    "        new_tweet_fvs.append(new_tweet_fv)"
   ]
  },
  {
   "cell_type": "markdown",
   "metadata": {},
   "source": [
    "Se guarda los vectores característicos de los tweets en un Excel"
   ]
  },
  {
   "cell_type": "code",
   "execution_count": 385,
   "metadata": {},
   "outputs": [],
   "source": [
    "column_names = [\"f\" + str(i) for i in range(1, size + 1)]\n",
    "column_names.append(\"class\")\n",
    "\n",
    "x = new_tweet_fvs\n",
    "df = pd.DataFrame(x) \n",
    "df[\"class\"] = y\n",
    "df.columns = column_names"
   ]
  },
  {
   "cell_type": "code",
   "execution_count": 386,
   "metadata": {},
   "outputs": [
    {
     "data": {
      "text/html": [
       "<div>\n",
       "<style scoped>\n",
       "    .dataframe tbody tr th:only-of-type {\n",
       "        vertical-align: middle;\n",
       "    }\n",
       "\n",
       "    .dataframe tbody tr th {\n",
       "        vertical-align: top;\n",
       "    }\n",
       "\n",
       "    .dataframe thead th {\n",
       "        text-align: right;\n",
       "    }\n",
       "</style>\n",
       "<table border=\"1\" class=\"dataframe\">\n",
       "  <thead>\n",
       "    <tr style=\"text-align: right;\">\n",
       "      <th></th>\n",
       "      <th>f1</th>\n",
       "      <th>f2</th>\n",
       "      <th>f3</th>\n",
       "      <th>f4</th>\n",
       "      <th>f5</th>\n",
       "      <th>f6</th>\n",
       "      <th>f7</th>\n",
       "      <th>f8</th>\n",
       "      <th>f9</th>\n",
       "      <th>f10</th>\n",
       "      <th>...</th>\n",
       "      <th>f92</th>\n",
       "      <th>f93</th>\n",
       "      <th>f94</th>\n",
       "      <th>f95</th>\n",
       "      <th>f96</th>\n",
       "      <th>f97</th>\n",
       "      <th>f98</th>\n",
       "      <th>f99</th>\n",
       "      <th>f100</th>\n",
       "      <th>class</th>\n",
       "    </tr>\n",
       "  </thead>\n",
       "  <tbody>\n",
       "    <tr>\n",
       "      <th>0</th>\n",
       "      <td>-0.185263</td>\n",
       "      <td>-0.126442</td>\n",
       "      <td>0.687119</td>\n",
       "      <td>-0.110711</td>\n",
       "      <td>-0.115368</td>\n",
       "      <td>-0.382538</td>\n",
       "      <td>0.177452</td>\n",
       "      <td>0.319352</td>\n",
       "      <td>0.414370</td>\n",
       "      <td>0.906571</td>\n",
       "      <td>...</td>\n",
       "      <td>-0.065240</td>\n",
       "      <td>-0.096958</td>\n",
       "      <td>-0.332892</td>\n",
       "      <td>-0.002203</td>\n",
       "      <td>0.488303</td>\n",
       "      <td>0.204036</td>\n",
       "      <td>-0.002951</td>\n",
       "      <td>0.283848</td>\n",
       "      <td>0.113339</td>\n",
       "      <td>positivo</td>\n",
       "    </tr>\n",
       "    <tr>\n",
       "      <th>1</th>\n",
       "      <td>-0.623082</td>\n",
       "      <td>-0.271673</td>\n",
       "      <td>1.000970</td>\n",
       "      <td>0.008670</td>\n",
       "      <td>-0.036696</td>\n",
       "      <td>-0.473044</td>\n",
       "      <td>0.546534</td>\n",
       "      <td>0.174511</td>\n",
       "      <td>0.489129</td>\n",
       "      <td>1.187792</td>\n",
       "      <td>...</td>\n",
       "      <td>-0.156622</td>\n",
       "      <td>-0.499596</td>\n",
       "      <td>-0.379724</td>\n",
       "      <td>0.104167</td>\n",
       "      <td>0.715333</td>\n",
       "      <td>0.232296</td>\n",
       "      <td>-0.278074</td>\n",
       "      <td>0.229985</td>\n",
       "      <td>-0.180596</td>\n",
       "      <td>positivo</td>\n",
       "    </tr>\n",
       "    <tr>\n",
       "      <th>2</th>\n",
       "      <td>-0.657994</td>\n",
       "      <td>-0.780325</td>\n",
       "      <td>0.999145</td>\n",
       "      <td>0.198315</td>\n",
       "      <td>0.053620</td>\n",
       "      <td>-0.494484</td>\n",
       "      <td>0.285496</td>\n",
       "      <td>0.320960</td>\n",
       "      <td>0.371300</td>\n",
       "      <td>1.081350</td>\n",
       "      <td>...</td>\n",
       "      <td>0.032576</td>\n",
       "      <td>0.075115</td>\n",
       "      <td>-0.187369</td>\n",
       "      <td>0.372731</td>\n",
       "      <td>0.648799</td>\n",
       "      <td>0.458300</td>\n",
       "      <td>-0.082725</td>\n",
       "      <td>0.435323</td>\n",
       "      <td>0.333019</td>\n",
       "      <td>positivo</td>\n",
       "    </tr>\n",
       "    <tr>\n",
       "      <th>3</th>\n",
       "      <td>-0.830661</td>\n",
       "      <td>-0.338200</td>\n",
       "      <td>1.131208</td>\n",
       "      <td>0.007910</td>\n",
       "      <td>0.039084</td>\n",
       "      <td>-0.531723</td>\n",
       "      <td>0.678928</td>\n",
       "      <td>0.098810</td>\n",
       "      <td>0.553012</td>\n",
       "      <td>1.354421</td>\n",
       "      <td>...</td>\n",
       "      <td>-0.186377</td>\n",
       "      <td>-0.661900</td>\n",
       "      <td>-0.428507</td>\n",
       "      <td>0.161155</td>\n",
       "      <td>0.830715</td>\n",
       "      <td>0.277351</td>\n",
       "      <td>-0.370832</td>\n",
       "      <td>0.256122</td>\n",
       "      <td>-0.219536</td>\n",
       "      <td>positivo</td>\n",
       "    </tr>\n",
       "    <tr>\n",
       "      <th>4</th>\n",
       "      <td>-0.351396</td>\n",
       "      <td>-0.394340</td>\n",
       "      <td>0.774259</td>\n",
       "      <td>-0.005173</td>\n",
       "      <td>0.010890</td>\n",
       "      <td>-0.290290</td>\n",
       "      <td>0.307829</td>\n",
       "      <td>0.238420</td>\n",
       "      <td>0.258530</td>\n",
       "      <td>0.893450</td>\n",
       "      <td>...</td>\n",
       "      <td>-0.041784</td>\n",
       "      <td>-0.143210</td>\n",
       "      <td>-0.350679</td>\n",
       "      <td>0.139063</td>\n",
       "      <td>0.584188</td>\n",
       "      <td>0.264411</td>\n",
       "      <td>-0.176282</td>\n",
       "      <td>0.150352</td>\n",
       "      <td>-0.062272</td>\n",
       "      <td>positivo</td>\n",
       "    </tr>\n",
       "  </tbody>\n",
       "</table>\n",
       "<p>5 rows × 101 columns</p>\n",
       "</div>"
      ],
      "text/plain": [
       "         f1        f2        f3        f4        f5        f6        f7  \\\n",
       "0 -0.185263 -0.126442  0.687119 -0.110711 -0.115368 -0.382538  0.177452   \n",
       "1 -0.623082 -0.271673  1.000970  0.008670 -0.036696 -0.473044  0.546534   \n",
       "2 -0.657994 -0.780325  0.999145  0.198315  0.053620 -0.494484  0.285496   \n",
       "3 -0.830661 -0.338200  1.131208  0.007910  0.039084 -0.531723  0.678928   \n",
       "4 -0.351396 -0.394340  0.774259 -0.005173  0.010890 -0.290290  0.307829   \n",
       "\n",
       "         f8        f9       f10  ...       f92       f93       f94       f95  \\\n",
       "0  0.319352  0.414370  0.906571  ... -0.065240 -0.096958 -0.332892 -0.002203   \n",
       "1  0.174511  0.489129  1.187792  ... -0.156622 -0.499596 -0.379724  0.104167   \n",
       "2  0.320960  0.371300  1.081350  ...  0.032576  0.075115 -0.187369  0.372731   \n",
       "3  0.098810  0.553012  1.354421  ... -0.186377 -0.661900 -0.428507  0.161155   \n",
       "4  0.238420  0.258530  0.893450  ... -0.041784 -0.143210 -0.350679  0.139063   \n",
       "\n",
       "        f96       f97       f98       f99      f100     class  \n",
       "0  0.488303  0.204036 -0.002951  0.283848  0.113339  positivo  \n",
       "1  0.715333  0.232296 -0.278074  0.229985 -0.180596  positivo  \n",
       "2  0.648799  0.458300 -0.082725  0.435323  0.333019  positivo  \n",
       "3  0.830715  0.277351 -0.370832  0.256122 -0.219536  positivo  \n",
       "4  0.584188  0.264411 -0.176282  0.150352 -0.062272  positivo  \n",
       "\n",
       "[5 rows x 101 columns]"
      ]
     },
     "execution_count": 386,
     "metadata": {},
     "output_type": "execute_result"
    }
   ],
   "source": [
    "df.head()"
   ]
  },
  {
   "cell_type": "code",
   "execution_count": 387,
   "metadata": {},
   "outputs": [],
   "source": [
    "df.to_csv(\"tweets_feature_extracion.csv\", encoding = \"utf-8\", index = False)"
   ]
  },
  {
   "cell_type": "code",
   "execution_count": null,
   "metadata": {},
   "outputs": [],
   "source": []
  }
 ],
 "metadata": {
  "kernelspec": {
   "display_name": "Python 3",
   "language": "python",
   "name": "python3"
  },
  "language_info": {
   "codemirror_mode": {
    "name": "ipython",
    "version": 3
   },
   "file_extension": ".py",
   "mimetype": "text/x-python",
   "name": "python",
   "nbconvert_exporter": "python",
   "pygments_lexer": "ipython3",
   "version": "3.7.3"
  }
 },
 "nbformat": 4,
 "nbformat_minor": 2
}
